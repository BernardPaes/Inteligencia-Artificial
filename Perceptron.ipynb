{
 "cells": [
  {
   "cell_type": "code",
   "execution_count": 34,
   "metadata": {},
   "outputs": [
    {
     "name": "stdout",
     "output_type": "stream",
     "text": [
      "AND\n",
      "AND:\n",
      "[0, 1] -> 0\n",
      "[0, 0] -> 0\n",
      "[1, 1] -> 1\n",
      "\n",
      "OR:\n",
      "[0, 1] -> 1\n",
      "[0, 0] -> 0\n",
      "[1, 1] -> 1\n"
     ]
    }
   ],
   "source": [
    "class Perceptron:\n",
    "    def __init__(self, num_inputs):\n",
    "        self.weights = [0.0] * num_inputs\n",
    "        self.bias = 0.0\n",
    "\n",
    "    def predict(self, inputs):\n",
    "        activation = self.bias\n",
    "        for i in range(len(inputs)):\n",
    "            activation += inputs[i] * self.weights[i]\n",
    "        return 1 if activation >= 0 else 0\n",
    "\n",
    "    def train(self, training_data, labels, learning_rate=0.1, epochs=100):\n",
    "        for _ in range(epochs):\n",
    "            for inputs, label in zip(training_data, labels):\n",
    "                prediction = self.predict(inputs)\n",
    "                error = label - prediction\n",
    "                self.bias += learning_rate * error\n",
    "                for i in range(len(inputs)):\n",
    "                    self.weights[i] += learning_rate * error * inputs[i]\n",
    "\n",
    "# Exemplo de uso\n",
    "if __name__ == \"__main__\":\n",
    "    # Função booleana AND\n",
    "    and_data = [[0, 0], [0, 1], [1, 0], [1, 1]]\n",
    "    and_labels = [0, 0, 0, 1]\n",
    "\n",
    "    perceptron_and = Perceptron(num_inputs=2)\n",
    "    perceptron_and.train(and_data, and_labels)\n",
    "\n",
    "    # Função booleana OR\n",
    "    or_data = [[0, 0], [0, 1], [1, 0], [1, 1],[0, 0]]\n",
    "    or_labels = [0, 1, 1, 1,0]\n",
    "\n",
    "    perceptron_or = Perceptron(num_inputs=2)\n",
    "    perceptron_or.train(or_data, or_labels)\n",
    "\n",
    "    # Função Booleana XOR\n",
    "    xor_data = [(0, 0), (0, 1), (1, 0), (1, 1)]\n",
    "    xor_labels = [0, 1, 1, 0]\n",
    "\n",
    "    perceptron_xor = Perceptron(num_inputs=2)\n",
    "    perceptron_xor.train(xor_data, xor_labels)\n",
    "\n",
    "    op = input(\"Escolha a operação: AND ou OR\\n Digite espaço para encerrar\").upper()\n",
    "    print(op)\n",
    "    num_op = input(\"Insira a quantidade de entradas\")\n",
    "\n",
    "    teste = []\n",
    "    for i in range(int(num_op)):\n",
    "        x, y = map(int, input(\"Digite dois inteiros separados por espaço: \").split())\n",
    "        teste.append([x, y])\n",
    "\n",
    "    print(\"AND:\")\n",
    "    for inputs in teste:\n",
    "        print(f\"{inputs} -> {perceptron_and.predict(inputs)}\")\n",
    "\n",
    "    print(\"\\nOR:\")\n",
    "    for inputs in teste:\n",
    "        print(f\"{inputs} -> {perceptron_or.predict(inputs)}\")\n",
    "\n",
    "    print(\"\\nXOR:\")\n",
    "    for inputs in teste:\n",
    "        print(f\"{inputs} -> {perceptron_xor.predict(inputs)}\")\n"
   ]
  }
 ],
 "metadata": {
  "kernelspec": {
   "display_name": "Python 3",
   "language": "python",
   "name": "python3"
  },
  "language_info": {
   "codemirror_mode": {
    "name": "ipython",
    "version": 3
   },
   "file_extension": ".py",
   "mimetype": "text/x-python",
   "name": "python",
   "nbconvert_exporter": "python",
   "pygments_lexer": "ipython3",
   "version": "3.12.3"
  }
 },
 "nbformat": 4,
 "nbformat_minor": 2
}
